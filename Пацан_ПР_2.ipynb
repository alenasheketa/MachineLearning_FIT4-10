{
  "metadata": {
    "kernelspec": {
      "name": "xpython",
      "display_name": "Python 3.13 (XPython)",
      "language": "python"
    },
    "language_info": {
      "file_extension": ".py",
      "mimetype": "text/x-python",
      "name": "python",
      "version": "3.13.1"
    }
  },
  "nbformat_minor": 5,
  "nbformat": 4,
  "cells": [
    {
      "id": "cef404f9-e478-426e-bd5a-022ca3f8f918",
      "cell_type": "code",
      "source": "import numpy as np",
      "metadata": {
        "trusted": true
      },
      "outputs": [],
      "execution_count": 1
    },
    {
      "id": "02171550-060b-43af-9085-4199b2aec76c",
      "cell_type": "code",
      "source": "# 1.Задати вектор з 5 натуральних чисел\nvector = np.array([1, 2, 3, 4, 5])\nprint(vector)",
      "metadata": {
        "trusted": true
      },
      "outputs": [
        {
          "name": "stdout",
          "output_type": "stream",
          "text": "[1 2 3 4 5]\n"
        }
      ],
      "execution_count": 2
    },
    {
      "id": "f49e5e66-d5c9-41e1-a0ee-240aae31c8a1",
      "cell_type": "code",
      "source": "# 2. Транспонувати вектор\nv1 = np.matrix([1, 2, 3, 4, 5])\nprint(v1)\n\nv2 = v1.T\nprint(v2)\n",
      "metadata": {
        "trusted": true
      },
      "outputs": [
        {
          "name": "stdout",
          "output_type": "stream",
          "text": "[[1 2 3 4 5]]\n[[1]\n [2]\n [3]\n [4]\n [5]]\n"
        }
      ],
      "execution_count": 3
    },
    {
      "id": "d72e9b26-2ad6-44b5-8a5f-be702617ec45",
      "cell_type": "code",
      "source": "# 3.Напишіть функцію, яка перевертає вектор у зворотньому порядку \nv = np.array([1, 2, 3, 4, 5])\nprint( v[::-1])",
      "metadata": {
        "trusted": true
      },
      "outputs": [
        {
          "name": "stdout",
          "output_type": "stream",
          "text": "[5 4 3 2 1]\n"
        }
      ],
      "execution_count": 5
    },
    {
      "id": "7dce7b61-24cd-41ba-a3d7-0370e7951e86",
      "cell_type": "code",
      "source": "v = np.flip(v)\nprint(v)",
      "metadata": {
        "trusted": true
      },
      "outputs": [
        {
          "name": "stdout",
          "output_type": "stream",
          "text": "[5 4 3 2 1]\n"
        }
      ],
      "execution_count": 6
    },
    {
      "id": "e8aeae88-842c-41d1-a47e-ee384e88ec76",
      "cell_type": "code",
      "source": "# 4.Знайти середнє значення вектора\nprint(np.mean(v))",
      "metadata": {
        "trusted": true
      },
      "outputs": [
        {
          "name": "stdout",
          "output_type": "stream",
          "text": "3.0\n"
        }
      ],
      "execution_count": 7
    },
    {
      "id": "75ffb491-b5ec-4028-885f-a63e08681954",
      "cell_type": "code",
      "source": "# 5. Знайти найбільший і найменший елементи вектора\nprint(np.max(v))\nprint(np.min(v))",
      "metadata": {
        "trusted": true
      },
      "outputs": [
        {
          "name": "stdout",
          "output_type": "stream",
          "text": "5\n1\n"
        }
      ],
      "execution_count": 8
    },
    {
      "id": "d7e406fa-3913-4467-9dcb-b8ad0bf88cf7",
      "cell_type": "code",
      "source": "# 6. Обчислити скалярний добуток (dot product) двох векторів\nv1 = np.array([1, 2, 3])\nv2 = np.array([4, 5, 6])\n\nprint(np.dot(v1, v2))\nprint(v1 * v2)",
      "metadata": {
        "trusted": true
      },
      "outputs": [
        {
          "name": "stdout",
          "output_type": "stream",
          "text": "32\n[ 4 10 18]\n"
        }
      ],
      "execution_count": 9
    },
    {
      "id": "d9634e0d-1269-4932-9a12-a0e8708409c0",
      "cell_type": "code",
      "source": "# 7. Написати функцію, яка нормалізує вектор (зводить до одиничної довжини)\nv = np.array([1, 2, 3, 4, 5])\nnorm = np.linalg.norm(v)\n\nprint(norm)\n\nv/norm",
      "metadata": {
        "trusted": true
      },
      "outputs": [
        {
          "name": "stdout",
          "output_type": "stream",
          "text": "7.416198487095663\n"
        },
        {
          "execution_count": 11,
          "output_type": "execute_result",
          "data": {
            "text/plain": "array([0.13483997, 0.26967994, 0.40451992, 0.53935989, 0.67419986])"
          },
          "metadata": {}
        }
      ],
      "execution_count": 11
    },
    {
      "id": "7c22ab8b-8cb3-42db-a805-06c7c4b6aa2e",
      "cell_type": "code",
      "source": "# 8. Задайте два вектори. Визначте, чи є вони ортогональними. Підказка: якщо скалярний добуток дорівнює нулю, вектори ортогональні.\nv1 = np.array([1, 0, 0])\nv2 = np.array([0, 1, 0])\n\nnp.dot(v1, v2)\n\nnp.int64(0)\n",
      "metadata": {
        "trusted": true
      },
      "outputs": [
        {
          "execution_count": 12,
          "output_type": "execute_result",
          "data": {
            "text/plain": "np.int64(0)"
          },
          "metadata": {}
        }
      ],
      "execution_count": 12
    },
    {
      "id": "8714451a-4be1-4e60-b16f-b11bc21ea9f9",
      "cell_type": "code",
      "source": "# 9. Визначте унікальні елементи вектора\nv = np.array([1, 2, 3, 2, 2, 4, 5, 3])\nnp.unique(v)",
      "metadata": {
        "trusted": true
      },
      "outputs": [
        {
          "execution_count": 13,
          "output_type": "execute_result",
          "data": {
            "text/plain": "array([1, 2, 3, 4, 5])"
          },
          "metadata": {}
        }
      ],
      "execution_count": 13
    },
    {
      "id": "3a0c1cb4-7bdf-49d2-865a-a40fb89d332b",
      "cell_type": "code",
      "source": "# 10. Знайти вектори\n\nv1 = np.array([1, 2, 3])\nv2 = np.array([4, 5, 6])\n\nprint(v1 - v2)\nprint(v2 - v1)\nprint(v1 + v2)\nprint(v2 + v1)\nprint(v1 * v2)\nprint(v2 * v1)\nprint(v1 / v2)\nprint(v2 / v1)\n",
      "metadata": {
        "trusted": true
      },
      "outputs": [
        {
          "name": "stdout",
          "output_type": "stream",
          "text": "[-3 -3 -3]\n[3 3 3]\n[5 7 9]\n[5 7 9]\n[ 4 10 18]\n[ 4 10 18]\n[0.25 0.4  0.5 ]\n[4.  2.5 2. ]\n"
        }
      ],
      "execution_count": 14
    },
    {
      "id": "847fd75f-322c-4760-ba3b-d49dd73099ab",
      "cell_type": "code",
      "source": "#11. Перевірити, чи дорівнює довжина вектора 5\nvector = np.array([1,2,3,4,5])\nlength = np.linalg.norm(vector)\n\nnp.isclose(length, 5)",
      "metadata": {
        "trusted": true
      },
      "outputs": [
        {
          "execution_count": 16,
          "output_type": "execute_result",
          "data": {
            "text/plain": "np.False_"
          },
          "metadata": {}
        }
      ],
      "execution_count": 16
    },
    {
      "id": "1202f5d0-cb9c-4360-8a9d-8fa0942dd322",
      "cell_type": "code",
      "source": "# 12. Задати матрицю, заповнену випадковими числами\na = np.random.randint(0, 11, (3, 3))\nprint(a)",
      "metadata": {
        "trusted": true
      },
      "outputs": [
        {
          "name": "stdout",
          "output_type": "stream",
          "text": "[[9 4 8]\n [1 5 1]\n [6 9 7]]\n"
        }
      ],
      "execution_count": 17
    },
    {
      "id": "e4c34915-1cc5-48ca-afd3-ccbc03b85ecf",
      "cell_type": "code",
      "source": "# 13. Обчислити визначник матриці\nnp.linalg.det(a)",
      "metadata": {
        "trusted": true
      },
      "outputs": [
        {
          "execution_count": 18,
          "output_type": "execute_result",
          "data": {
            "text/plain": "np.float64(62.00000000000001)"
          },
          "metadata": {}
        }
      ],
      "execution_count": 18
    },
    {
      "id": "be25a846-eed5-422d-89a3-df7991c35ea1",
      "cell_type": "code",
      "source": "# 14. Знаходження оберненої матриці\nnp.linalg.inv(a)\n",
      "metadata": {
        "trusted": true
      },
      "outputs": [
        {
          "execution_count": 19,
          "output_type": "execute_result",
          "data": {
            "text/plain": "array([[ 0.41935484,  0.70967742, -0.58064516],\n       [-0.01612903,  0.24193548, -0.01612903],\n       [-0.33870968, -0.91935484,  0.66129032]])"
          },
          "metadata": {}
        }
      ],
      "execution_count": 19
    },
    {
      "id": "5e4ba171-af3a-4b53-a534-9178622e2f5a",
      "cell_type": "code",
      "source": "# 15. Розв'язок системи лінійних рівнянь A:x = b, де A — матриця коефіцієнтів, b — вектор вільних членів.\n\na = np.array([[1, 3, -4], [0, 2, -3], [-2, 2, 5]])  \nb = np.array([5, 3, 4])  \n\nx = np.linalg.solve(a, b) \nprint(x)\n# Альтернативний метод\ninv_a = np.linalg.inv(a) \nx1 = inv_a.dot(b)  \nprint(x1)",
      "metadata": {
        "trusted": true
      },
      "outputs": [
        {
          "name": "stdout",
          "output_type": "stream",
          "text": "[0.38888889 1.83333333 0.22222222]\n[0.38888889 1.83333333 0.22222222]\n"
        }
      ],
      "execution_count": 20
    },
    {
      "id": "b40a944e-9b86-414c-8baa-094dd77a9864",
      "cell_type": "code",
      "source": "# 16. Множення двох матриць\na = np.array([[1, 3, -4], [0, 2, -3], [-2, 2, 5]]) \nb = np.array([5, 3, 4])  \n\nnp.dot(a, b)  ",
      "metadata": {
        "trusted": true
      },
      "outputs": [
        {
          "execution_count": 21,
          "output_type": "execute_result",
          "data": {
            "text/plain": "array([-2, -6, 16])"
          },
          "metadata": {}
        }
      ],
      "execution_count": 21
    },
    {
      "id": "8bcb36aa-11df-4d78-b9b2-335a908ebd00",
      "cell_type": "code",
      "source": "a = np.matrix([[1, 3, -4], [0, 2, -3]])\nb = np.matrix([[5, 3, 4], [2, 3, 5], [3, 2, 3]])\nprint(a)\nprint(b)\nprint(np.dot(a, b))",
      "metadata": {
        "trusted": true
      },
      "outputs": [
        {
          "name": "stdout",
          "output_type": "stream",
          "text": "[[ 1  3 -4]\n [ 0  2 -3]]\n[[5 3 4]\n [2 3 5]\n [3 2 3]]\n[[-1  4  7]\n [-5  0  1]]\n"
        }
      ],
      "execution_count": 22
    },
    {
      "id": "e51953f9-abad-4616-beec-5d8f89792b2d",
      "cell_type": "code",
      "source": "# 17. Транспонування матриці\nprint(a.T)\nprint(b.T)",
      "metadata": {
        "trusted": true
      },
      "outputs": [
        {
          "name": "stdout",
          "output_type": "stream",
          "text": "[[ 1  0]\n [ 3  2]\n [-4 -3]]\n[[5 2 3]\n [3 3 2]\n [4 5 3]]\n"
        }
      ],
      "execution_count": 25
    },
    {
      "id": "867f5205-eee3-485c-8162-2754e3ce72e0",
      "cell_type": "code",
      "source": "print(np.transpose(a))\nprint(np.transpose(b))",
      "metadata": {
        "trusted": true
      },
      "outputs": [
        {
          "name": "stdout",
          "output_type": "stream",
          "text": "[[ 1  0]\n [ 3  2]\n [-4 -3]]\n[[5 2 3]\n [3 3 2]\n [4 5 3]]\n"
        }
      ],
      "execution_count": 26
    },
    {
      "id": "24ae81f6-9470-4d7b-824d-301910df31b9",
      "cell_type": "code",
      "source": "# 18. Перевірка симетричності матриці\nmatrix = np.matrix([[2, 2, 2], [2, 2, 2], [2, 2, 2]])\nnp.allclose(matrix, matrix.T)",
      "metadata": {
        "trusted": true
      },
      "outputs": [
        {
          "execution_count": 27,
          "output_type": "execute_result",
          "data": {
            "text/plain": "True"
          },
          "metadata": {}
        }
      ],
      "execution_count": 27
    },
    {
      "id": "1e09697b-b3c5-4995-8930-eede1c4189e2",
      "cell_type": "code",
      "source": "# 19. Обчислення сліду матриці\nnp.trace(matrix)",
      "metadata": {
        "trusted": true
      },
      "outputs": [
        {
          "execution_count": 28,
          "output_type": "execute_result",
          "data": {
            "text/plain": "np.int32(6)"
          },
          "metadata": {}
        }
      ],
      "execution_count": 28
    },
    {
      "id": "62924fa8-8e8e-4299-a79e-b874c2d9843a",
      "cell_type": "code",
      "source": "# 20. Дії з матрицями\na = np.matrix([[1, 2], [3, 4]])\nb = np.matrix([[5, 6], [7, 8]])\n\nprint(np.add(a, b))\nprint(np.subtract(a, b))\nprint(np.multiply(a, b))\nprint(np.divide(a, b))",
      "metadata": {
        "trusted": true
      },
      "outputs": [
        {
          "name": "stdout",
          "output_type": "stream",
          "text": "[[ 6  8]\n [10 12]]\n[[-4 -4]\n [-4 -4]]\n[[ 5 12]\n [21 32]]\n[[0.2        0.33333333]\n [0.42857143 0.5       ]]\n"
        }
      ],
      "execution_count": 29
    },
    {
      "id": "c8750983-2c2e-43b1-94bb-e881a1eb9f69",
      "cell_type": "code",
      "source": "# 21. Піднесення матриці до ступеня \na = np.matrix([[1, 2], [3, 4]])\nnp.linalg.matrix_power(a, 2)",
      "metadata": {
        "trusted": true
      },
      "outputs": [
        {
          "execution_count": 33,
          "output_type": "execute_result",
          "data": {
            "text/plain": "matrix([[ 7, 10],\n        [15, 22]])"
          },
          "metadata": {}
        }
      ],
      "execution_count": 33
    },
    {
      "id": "e51d7865-d219-410c-a116-439e49be818b",
      "cell_type": "code",
      "source": "# 22. Сортування рядків та стовпців в матриці\nb = np.matrix([[5, 3, 4], [2, 3, 5], [3, 2, 3]])\nprint(b)\nprint(np.sort(b, axis=0))\nprint(np.sort(b, axis=1))\nprint(np.sort(b, axis=None))",
      "metadata": {
        "trusted": true
      },
      "outputs": [
        {
          "name": "stdout",
          "output_type": "stream",
          "text": "[[5 3 4]\n [2 3 5]\n [3 2 3]]\n[[2 2 3]\n [3 3 4]\n [5 3 5]]\n[[3 4 5]\n [2 3 5]\n [2 3 3]]\n[[2 2 3 3 3 3 4 5 5]]\n"
        }
      ],
      "execution_count": 30
    },
    {
      "id": "40ac0dc4-c867-4c54-b3f0-35c2aa84a540",
      "cell_type": "code",
      "source": "a = np.array([[1, 4], [3, 1]])\nprint(a)\nprint(np.sort(a))",
      "metadata": {
        "trusted": true
      },
      "outputs": [
        {
          "name": "stdout",
          "output_type": "stream",
          "text": "[[1 4]\n [3 1]]\n[[1 4]\n [1 3]]\n"
        }
      ],
      "execution_count": 31
    },
    {
      "id": "c1ea76cd-93d5-44fe-a59b-98ecc3de1ad9",
      "cell_type": "code",
      "source": "# 23. Підраховуємо суму елементів кожного рядка матриці та перетворюємо результат у вектор-стовпчик\nrow_sums = np.sum(a, axis=1).reshape(-1, 1)\nprint(\"Сума елементів кожного рядка:\")\nprint(row_sums)",
      "metadata": {
        "trusted": true
      },
      "outputs": [
        {
          "name": "stdout",
          "output_type": "stream",
          "text": "Сума елементів кожного рядка:\n[[5]\n [4]]\n"
        }
      ],
      "execution_count": 32
    },
    {
      "id": "1e85757b-b6bd-4a9f-9808-56392b7e6aac",
      "cell_type": "code",
      "source": "",
      "metadata": {
        "trusted": true
      },
      "outputs": [],
      "execution_count": null
    }
  ]
}