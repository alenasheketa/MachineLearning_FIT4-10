{
  "metadata": {
    "kernelspec": {
      "name": "xpython",
      "display_name": "Python 3.13 (XPython)",
      "language": "python"
    },
    "language_info": {
      "file_extension": ".py",
      "mimetype": "text/x-python",
      "name": "python",
      "version": "3.13.1"
    }
  },
  "nbformat_minor": 5,
  "nbformat": 4,
  "cells": [
    {
      "id": "af581cd1-bd5e-4cbb-96dd-0930e1e94401",
      "cell_type": "code",
      "source": "import numpy as np\nprint(np.__version__)",
      "metadata": {
        "trusted": true
      },
      "outputs": [
        {
          "name": "stdout",
          "output_type": "stream",
          "text": "2.3.1\n"
        }
      ],
      "execution_count": 2
    },
    {
      "id": "68280a37-5ed4-4a5d-a172-b74a61f65bcd",
      "cell_type": "code",
      "source": "# 1. Створи матрицю 3*3, заповни її цілими випадковими числами від 1 до 5\nmatrix = np.random.randint(1, 6, size=(3,3))\nprint(matrix)",
      "metadata": {
        "trusted": true
      },
      "outputs": [
        {
          "name": "stdout",
          "output_type": "stream",
          "text": "[[2 1 2]\n [2 5 5]\n [3 5 3]]\n"
        }
      ],
      "execution_count": 7
    },
    {
      "id": "29113433-e922-4ed6-a35b-127d0bda3821",
      "cell_type": "code",
      "source": "# 2. Обчислити визначник матриці\ndet = np.linalg.det(matrix)\nprint(det)",
      "metadata": {
        "trusted": true
      },
      "outputs": [
        {
          "name": "stdout",
          "output_type": "stream",
          "text": "-21.0\n"
        }
      ],
      "execution_count": 8
    },
    {
      "id": "06adb8c9-37aa-4381-ae4a-8a44a8d81a1b",
      "cell_type": "code",
      "source": "# 3. Знайти добуток всіх елементів матриці \nproduct = np.prod(matrix)\nprint(product)",
      "metadata": {
        "trusted": true
      },
      "outputs": [
        {
          "name": "stdout",
          "output_type": "stream",
          "text": "9000\n"
        }
      ],
      "execution_count": 9
    },
    {
      "id": "77f59e89-835b-4a6a-b11c-d834127332b7",
      "cell_type": "code",
      "source": "prod_1 = np.prod(matrix[0])\nprod_2 = np.prod(matrix[1])\nprod_3 = np.prod(matrix[2])\nprint(prod_1*prod_2*prod_3)",
      "metadata": {
        "trusted": true
      },
      "outputs": [
        {
          "name": "stdout",
          "output_type": "stream",
          "text": "9000\n"
        }
      ],
      "execution_count": 10
    },
    {
      "id": "3a0aeee3-b644-425b-803c-66663d5819a4",
      "cell_type": "code",
      "source": "# 4.Знайти суму всіх елементів матриці \nsum = np.sum(matrix)\nprint(sum)",
      "metadata": {
        "trusted": true
      },
      "outputs": [
        {
          "name": "stdout",
          "output_type": "stream",
          "text": "28\n"
        }
      ],
      "execution_count": 11
    },
    {
      "id": "42d7b7a2-0557-4808-970f-4eaf4fe21f69",
      "cell_type": "code",
      "source": "# 5. Обчислити найбільший та найменший елементи матриці\nmax_element = np.max(matrix)\nmin_element = np.min(matrix)\nprint(\"Найбільший елемент матриці: \", max_element)\nprint(\"Найменший елемент матриці: \", min_element)",
      "metadata": {
        "trusted": true
      },
      "outputs": [
        {
          "name": "stdout",
          "output_type": "stream",
          "text": "Найбільший елемент матриці:  5\nНайменший елемент матриці:  1\n"
        }
      ],
      "execution_count": 12
    },
    {
      "id": "c98cd260-914d-4442-b180-13a38473c907",
      "cell_type": "code",
      "source": "# 6. Знайти середнє значення елементів матриці\nmean = np.mean(matrix)\nprint(\"Cереднє значення елементів матриці: \", mean)",
      "metadata": {
        "trusted": true
      },
      "outputs": [
        {
          "name": "stdout",
          "output_type": "stream",
          "text": "Cереднє значення елементів матриці:  3.111111111111111\n"
        }
      ],
      "execution_count": 13
    },
    {
      "id": "f69ccd36-54bc-4a45-9184-26dffc9ddb2d",
      "cell_type": "code",
      "source": "# 7. Знайти матрицію яка складена з квадаратних коренів \nsqrt_matrix = np.sqrt(matrix)\nprint(\"Матриця квадратних коренів:\")\nprint(sqrt_matrix)",
      "metadata": {
        "trusted": true
      },
      "outputs": [
        {
          "name": "stdout",
          "output_type": "stream",
          "text": "Матриця квадратних коренів:\n[[1.41421356 1.         1.41421356]\n [1.41421356 2.23606798 2.23606798]\n [1.73205081 2.23606798 1.73205081]]\n"
        }
      ],
      "execution_count": 14
    },
    {
      "id": "e6c61b47-859c-443b-bcd3-bd269b5a8ea8",
      "cell_type": "code",
      "source": "# 8. Обчислшити суму елементів кожного рядку.Записати як вектор-стовпчик\nrow_sums = np.sum(matrix, axis = 1).reshape(-1,1) \nprint(\"Сума елементів кожного рядка:\")\nprint(row_sums)",
      "metadata": {
        "trusted": true
      },
      "outputs": [
        {
          "name": "stdout",
          "output_type": "stream",
          "text": "Сума елементів кожного рядка:\n[[ 5]\n [12]\n [11]]\n"
        }
      ],
      "execution_count": 15
    },
    {
      "id": "4aba7431-3511-4490-8d0f-fde4a4451df9",
      "cell_type": "code",
      "source": "# 9. Створити вектор, що містить 25 елементів. Заповни числами від 0 до 9. Відсортувати числа за спаданням.\nvector = np.random.randint(0,10,size = 25)\nprint(\"Початковий вектор:\")\nprint(vector)\n\nsorted_vector = np.sort(vector)[::-1]\nprint(\"Вектор після сортування за спаданням: \")\nprint(sorted_vector)",
      "metadata": {
        "trusted": true
      },
      "outputs": [
        {
          "name": "stdout",
          "output_type": "stream",
          "text": "Початковий вектор:\n[1 7 2 1 4 8 2 3 4 5 7 7 9 0 8 3 7 0 0 8 6 7 9 8 2]\nВектор після сортування за спаданням: \n[9 9 8 8 8 8 7 7 7 7 7 6 5 4 4 3 3 2 2 2 1 1 0 0 0]\n"
        }
      ],
      "execution_count": 16
    },
    {
      "id": "63b872df-df01-44ba-afff-62119d7bca03",
      "cell_type": "code",
      "source": "# 10. Знайти моду, медіану, середнє, максимальне та мінімальне значення вектора\nfrom scipy import stats\n\n# Створюємо випадковий вектор від 0 до 9\nvector = np.random.randint(0, 10, size=25)\nprint(\"Вектор:\", vector)\n\n# Знаходимо моду\nmode = stats.mode(vector, keepdims=True)\n\n# Знаходимо медіану\nmedian = np.median(vector)\n\n# Знаходимо середнє\nmean = np.mean(vector)\n\n# Знаходимо максимальне значення\nmax_value = np.max(vector)\n\n# Знаходимо мінімальне значення\nmin_value = np.min(vector)\n\nprint(\"Мода:\", mode.mode[0])\nprint(\"Медіана:\", median)\nprint(\"Середнє:\", mean)\nprint(\"Максимальне значення:\", max_value)\nprint(\"Мінімальне значення:\", min_value)",
      "metadata": {
        "trusted": true
      },
      "outputs": [
        {
          "name": "stdout",
          "output_type": "stream",
          "text": "Вектор: [4 2 3 0 9 7 3 8 4 7 1 6 5 5 6 9 9 7 8 5 4 7 5 4 2]\nМода: 4\nМедіана: 5.0\nСереднє: 5.2\nМаксимальне значення: 9\nМінімальне значення: 0\n"
        }
      ],
      "execution_count": 17
    },
    {
      "id": "965647a9-4ca1-4470-a352-bb159efe430b",
      "cell_type": "code",
      "source": "# 11. Створити дві матриці 4*4 заповнені числами від 1 до 10. Обчислити суму,різницю, добуток та частку.\nmatrix1 = np.random.randint(1, 11, size=(4,4))\nmatrix2 = np.random.randint(1, 11, size=(4,4))\nprint(\"Матриця 1: \")\nprint(matrix1)\nprint(\"Матриця 2: \")\nprint(matrix2)\n# Обчислюємо суму матриць\nmatrix_sum = matrix1 + matrix2\n\n# Обчислюємо різницю матриць\nmatrix_diff = matrix1 - matrix2\n\n# Обчислюємо поелементний добуток матриць\nmatrix_product = matrix1 * matrix2\n\n# Обчислюємо поелементну частку матриць\nmatrix_division = np.divide(matrix1, matrix2, where=(matrix2 != 0))\n\nprint(\"\\nСума матриць:\")\nprint(matrix_sum)\n\nprint(\"\\nРізниця матриць:\")\nprint(matrix_diff)\n\nprint(\"\\nПоелементний добуток матриць:\")\nprint(matrix_product)\n\nprint(\"\\nПоелементна частка матриць:\")\nprint(matrix_division)",
      "metadata": {
        "trusted": true
      },
      "outputs": [
        {
          "name": "stdout",
          "output_type": "stream",
          "text": "Матриця 1: \n[[ 3  3  2  3]\n [ 5  5  4  1]\n [ 9 10  7  7]\n [ 3  4  1  2]]\nМатриця 2: \n[[ 5  7 10  9]\n [10  4  5  7]\n [ 6  7  2  6]\n [ 4  7  9 10]]\n\nСума матриць:\n[[ 8 10 12 12]\n [15  9  9  8]\n [15 17  9 13]\n [ 7 11 10 12]]\n\nРізниця матриць:\n[[-2 -4 -8 -6]\n [-5  1 -1 -6]\n [ 3  3  5  1]\n [-1 -3 -8 -8]]\n\nПоелементний добуток матриць:\n[[15 21 20 27]\n [50 20 20  7]\n [54 70 14 42]\n [12 28  9 20]]\n\nПоелементна частка матриць:\n[[0.6        0.42857143 0.2        0.33333333]\n [0.5        1.25       0.8        0.14285714]\n [1.5        1.42857143 3.5        1.16666667]\n [0.75       0.57142857 0.11111111 0.2       ]]\n"
        }
      ],
      "execution_count": 19
    },
    {
      "id": "dce6c4ce-6389-4722-aa7b-83cf87252206",
      "cell_type": "code",
      "source": "\"\"\"\nВисновок:\nУ ході виконання лабораторної роботи було використано веб-середовище Jupyter Notebook, а саме середовище з інтегрованим інтерпретатором Python 3.13\nта бібліотеками NumPy і SciPy. Ми застосовували наші знання з лінійної алгебри для вирішення елементарних задач, а саме: працювали з матрицями \nта векторами, виконуючи над ними арифметичні та статистичні операції. Робота продемонструвала ефективність NumPy у математичних розрахунках, \nа також дала підгрунтя для подальшого вивчення машинного навчання.\n\"\"\"",
      "metadata": {
        "trusted": true
      },
      "outputs": [],
      "execution_count": null
    }
  ]
}